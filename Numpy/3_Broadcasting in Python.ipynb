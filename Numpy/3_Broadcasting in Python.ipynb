{
 "cells": [
  {
   "cell_type": "markdown",
   "metadata": {},
   "source": [
    "###### These exercises are inspired from Andrew Ng Coursera Deep Learning specialisation and INRIA FUN MOOC on Python "
   ]
  },
  {
   "cell_type": "markdown",
   "metadata": {},
   "source": [
    "###### Training section"
   ]
  },
  {
   "cell_type": "markdown",
   "metadata": {},
   "source": [
    "Broadcasting in python is a mecanism which duplicates a scalar or vector to perform elementwise operations on matrix or vectors"
   ]
  },
  {
   "cell_type": "code",
   "execution_count": 1,
   "metadata": {},
   "outputs": [
    {
     "name": "stdout",
     "output_type": "stream",
     "text": [
      "[[0.6422793  0.81783588 0.16265294]\n",
      " [0.16811229 0.66037123 0.20258652]\n",
      " [0.93656326 0.40860885 0.61712814]\n",
      " [0.99014385 0.33136491 0.14707008]]\n"
     ]
    }
   ],
   "source": [
    "import numpy as np\n",
    "A = np.random.rand(4,3)\n",
    "print(A)"
   ]
  },
  {
   "cell_type": "markdown",
   "metadata": {},
   "source": [
    "For instance, we can broadcast a scalar b to add b to each element of A"
   ]
  },
  {
   "cell_type": "code",
   "execution_count": 2,
   "metadata": {},
   "outputs": [
    {
     "data": {
      "text/plain": [
       "array([[2.6422793 , 2.81783588, 2.16265294],\n",
       "       [2.16811229, 2.66037123, 2.20258652],\n",
       "       [2.93656326, 2.40860885, 2.61712814],\n",
       "       [2.99014385, 2.33136491, 2.14707008]])"
      ]
     },
     "execution_count": 2,
     "metadata": {},
     "output_type": "execute_result"
    }
   ],
   "source": [
    "b = 2\n",
    "A + b"
   ]
  },
  {
   "cell_type": "markdown",
   "metadata": {},
   "source": [
    "to sum horizontally the elements of A, we can call sum on A with the argument axis = 1"
   ]
  },
  {
   "cell_type": "code",
   "execution_count": 3,
   "metadata": {},
   "outputs": [
    {
     "data": {
      "text/plain": [
       "array([1.62276812, 1.03107004, 1.96230025, 1.46857884])"
      ]
     },
     "execution_count": 3,
     "metadata": {},
     "output_type": "execute_result"
    }
   ],
   "source": [
    "A.sum(axis= 1)"
   ]
  },
  {
   "cell_type": "markdown",
   "metadata": {},
   "source": [
    "to sum vertically, the argument is axis =0"
   ]
  },
  {
   "cell_type": "markdown",
   "metadata": {},
   "source": [
    "We can do elementwise operations between a matrix with a vector thanks to python broadcasting.\n",
    "Let's define a vector u as the vertical sum of all columns of A and use it on A"
   ]
  },
  {
   "cell_type": "code",
   "execution_count": 4,
   "metadata": {},
   "outputs": [
    {
     "name": "stdout",
     "output_type": "stream",
     "text": [
      "[2.7370987  2.21818087 1.12943768]\n",
      "(3,)\n"
     ]
    }
   ],
   "source": [
    "u = A.sum(axis = 0)\n",
    "print(u)\n",
    "print(u.shape)"
   ]
  },
  {
   "cell_type": "markdown",
   "metadata": {},
   "source": [
    "For security reshape u to force its shape (1,3). Defining a vector with only one dimension, leaving the other empty such as u is defined above, can have terrible cost in debugging."
   ]
  },
  {
   "cell_type": "code",
   "execution_count": 5,
   "metadata": {},
   "outputs": [
    {
     "name": "stdout",
     "output_type": "stream",
     "text": [
      "(1, 3)\n"
     ]
    }
   ],
   "source": [
    "u = u.reshape(1,3)\n",
    "print(u.shape)"
   ]
  },
  {
   "cell_type": "markdown",
   "metadata": {},
   "source": [
    "divide A by u"
   ]
  },
  {
   "cell_type": "code",
   "execution_count": 6,
   "metadata": {},
   "outputs": [
    {
     "name": "stdout",
     "output_type": "stream",
     "text": [
      "[[0.23465698 0.36869666 0.14401232]\n",
      " [0.06141989 0.29770847 0.17936937]\n",
      " [0.34217372 0.18420899 0.546403  ]\n",
      " [0.36174941 0.14938588 0.13021531]]\n"
     ]
    }
   ],
   "source": [
    "div = A/u\n",
    "print(div)"
   ]
  },
  {
   "cell_type": "markdown",
   "metadata": {},
   "source": [
    "We have broadcasted vector u on each element of A"
   ]
  },
  {
   "cell_type": "markdown",
   "metadata": {},
   "source": [
    "###### Exercise section"
   ]
  },
  {
   "cell_type": "markdown",
   "metadata": {},
   "source": [
    "Exercise:\n",
    "compute, for each values of A, its percentage in regard of the total column sum of A and store it in a object w"
   ]
  },
  {
   "cell_type": "code",
   "execution_count": null,
   "metadata": {},
   "outputs": [],
   "source": []
  },
  {
   "cell_type": "markdown",
   "metadata": {
    "collapsed": true
   },
   "source": [
    "Lets define two matrix with different dimensions, (3, 1) and (1, 5)"
   ]
  },
  {
   "cell_type": "code",
   "execution_count": 7,
   "metadata": {},
   "outputs": [
    {
     "name": "stdout",
     "output_type": "stream",
     "text": [
      "[[1]\n",
      " [2]\n",
      " [3]]\n"
     ]
    }
   ],
   "source": [
    "col = np.arange(1, 4).reshape((3, 1))\n",
    "print(col)"
   ]
  },
  {
   "cell_type": "code",
   "execution_count": 8,
   "metadata": {},
   "outputs": [
    {
     "name": "stdout",
     "output_type": "stream",
     "text": [
      "[100 200 300 400 500]\n"
     ]
    }
   ],
   "source": [
    "line = 100 * np.arange(1, 6)\n",
    "print(line)"
   ]
  },
  {
   "cell_type": "markdown",
   "metadata": {},
   "source": [
    "Add the two matrix col and line thanks to broadcasting"
   ]
  },
  {
   "cell_type": "code",
   "execution_count": null,
   "metadata": {},
   "outputs": [],
   "source": []
  },
  {
   "cell_type": "markdown",
   "metadata": {},
   "source": [
    "Broacasting base rules  \n",
    "We can broadcast A and B when there is a dimension C which 'spreads' both these of A and B  \n",
    "So we can only broadcast from 1 to n.  \n",
    "If there is a dimension p> 1 dividing n,  we cannot broadcast from p to n."
   ]
  },
  {
   "cell_type": "markdown",
   "metadata": {},
   "source": [
    "Define  \n",
    "\n",
    "A with dimensions  15 x 3 x 5  \n",
    "B with dimensions  15 x 1 x 5  \n",
    "verify A+B has dimensions 15 x 3 x 5  \n",
    "\n",
    "Try also for \n",
    "\n",
    "B is dimensions 3 x 5  \n",
    "B is dimensions 3 x 1  \n",
    "B is dimensions 1  "
   ]
  },
  {
   "cell_type": "code",
   "execution_count": null,
   "metadata": {},
   "outputs": [],
   "source": []
  },
  {
   "cell_type": "code",
   "execution_count": null,
   "metadata": {},
   "outputs": [],
   "source": []
  },
  {
   "cell_type": "code",
   "execution_count": null,
   "metadata": {},
   "outputs": [],
   "source": []
  },
  {
   "cell_type": "markdown",
   "metadata": {},
   "source": [
    "Define A nd B with following dimensions and check if you can broadcast\n",
    "\n",
    "A      2 x 1\n",
    "B  8 x 4 x 3"
   ]
  }
 ],
 "metadata": {
  "kernelspec": {
   "display_name": "Python 3 (ipykernel)",
   "language": "python",
   "name": "python3"
  },
  "language_info": {
   "codemirror_mode": {
    "name": "ipython",
    "version": 3
   },
   "file_extension": ".py",
   "mimetype": "text/x-python",
   "name": "python",
   "nbconvert_exporter": "python",
   "pygments_lexer": "ipython3",
   "version": "3.9.13"
  }
 },
 "nbformat": 4,
 "nbformat_minor": 2
}
