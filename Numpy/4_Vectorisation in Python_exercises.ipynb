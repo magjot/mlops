{
 "cells": [
  {
   "cell_type": "markdown",
   "metadata": {},
   "source": [
    "###### These exercises are inspired from Andrew Ng Coursera Deep Learning specialisation and INRIA MOOC on FUN platform"
   ]
  },
  {
   "cell_type": "code",
   "execution_count": 1,
   "metadata": {},
   "outputs": [
    {
     "name": "stdout",
     "output_type": "stream",
     "text": [
      "[1 2 3 4]\n"
     ]
    }
   ],
   "source": [
    "import numpy as np\n",
    "a = np.array([1,2,3,4])\n",
    "print(a)"
   ]
  },
  {
   "cell_type": "markdown",
   "metadata": {},
   "source": [
    "###### Benchmark a vectorised and an non vectorized version of the dot product"
   ]
  },
  {
   "cell_type": "code",
   "execution_count": 2,
   "metadata": {},
   "outputs": [
    {
     "name": "stdout",
     "output_type": "stream",
     "text": [
      "249876.4338733247\n",
      "runtime vectorized = 33.006906509399414ms\n"
     ]
    }
   ],
   "source": [
    "b = np.random.rand(1000000)\n",
    "c = np.random.rand(1000000)\n",
    "\n",
    "import time\n",
    "time1 = time.time()\n",
    "d = np.dot(b, c)\n",
    "print(d)\n",
    "time2 = time.time()\n",
    "\n",
    "print(\"runtime vectorized = \" +str(1000*(time2-time1)) + \"ms\")"
   ]
  },
  {
   "cell_type": "code",
   "execution_count": 3,
   "metadata": {},
   "outputs": [
    {
     "name": "stdout",
     "output_type": "stream",
     "text": [
      "249876.43387332582\n",
      "runtime non vectorized = 418.52760314941406ms\n"
     ]
    }
   ],
   "source": [
    "time1 = time.time()\n",
    "\n",
    "e = 0\n",
    "for i in range(1000000):\n",
    "    e += b[i]*c[i]\n",
    "print(e)\n",
    "time2 = time.time()\n",
    "print(\"runtime non vectorized = \" +str(1000*(time2-time1)) + \"ms\")"
   ]
  },
  {
   "cell_type": "markdown",
   "metadata": {},
   "source": [
    "###### Exercises"
   ]
  },
  {
   "cell_type": "markdown",
   "metadata": {},
   "source": [
    "Turn the following iterative method into a vectorized computation using numpy.\n",
    " \n",
    "   - apply the exponential operation to each element of a vector u.\n",
    "   - we will store the outputs in a vector w of same dimensions than u.    \n"
   ]
  },
  {
   "cell_type": "code",
   "execution_count": 4,
   "metadata": {},
   "outputs": [
    {
     "name": "stdout",
     "output_type": "stream",
     "text": [
      "[[0.]\n",
      " [0.]\n",
      " [0.]]\n",
      "[0.63983142 0.19893107 0.03113384]\n",
      "[[1.8961612 ]\n",
      " [1.22009786]\n",
      " [1.03162357]]\n"
     ]
    }
   ],
   "source": [
    "import math\n",
    "n=3\n",
    "u = np.random.rand(n)\n",
    "v = np.zeros((n, 1))\n",
    "\n",
    "print(v)\n",
    "print(u)\n",
    "\n",
    "for i in range(n):\n",
    "    v[i]= math.exp(u[i])\n",
    "print(v)"
   ]
  },
  {
   "cell_type": "code",
   "execution_count": null,
   "metadata": {},
   "outputs": [],
   "source": []
  },
  {
   "cell_type": "markdown",
   "metadata": {},
   "source": [
    "Do the same on a matrix A of dimension 4 by 3 and store the results in an object z.  \n",
    "Generate A with the random method of numpy."
   ]
  },
  {
   "cell_type": "code",
   "execution_count": null,
   "metadata": {},
   "outputs": [],
   "source": []
  },
  {
   "cell_type": "markdown",
   "metadata": {
    "collapsed": true
   },
   "source": [
    "Compute Ax + b, assuming x is a vector of same length that A rows and b is a scalar.  \n",
    "Generate A and x with the random method of numpy."
   ]
  },
  {
   "cell_type": "code",
   "execution_count": null,
   "metadata": {},
   "outputs": [],
   "source": []
  }
 ],
 "metadata": {
  "kernelspec": {
   "display_name": "Python 3 (ipykernel)",
   "language": "python",
   "name": "python3"
  },
  "language_info": {
   "codemirror_mode": {
    "name": "ipython",
    "version": 3
   },
   "file_extension": ".py",
   "mimetype": "text/x-python",
   "name": "python",
   "nbconvert_exporter": "python",
   "pygments_lexer": "ipython3",
   "version": "3.9.13"
  }
 },
 "nbformat": 4,
 "nbformat_minor": 2
}
