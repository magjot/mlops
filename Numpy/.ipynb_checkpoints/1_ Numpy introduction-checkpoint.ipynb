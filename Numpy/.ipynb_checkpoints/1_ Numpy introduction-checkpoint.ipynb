{
 "cells": [
  {
   "cell_type": "markdown",
   "metadata": {},
   "source": [
    "###### These tutorials and exercises are inspired from Andrew Ng Coursera Deep Learning specialisation and INRIA MOOC on FUN platform"
   ]
  },
  {
   "cell_type": "markdown",
   "metadata": {},
   "source": [
    "# Introduction"
   ]
  },
  {
   "cell_type": "code",
   "execution_count": 1,
   "metadata": {},
   "outputs": [],
   "source": [
    "import numpy as np"
   ]
  },
  {
   "cell_type": "markdown",
   "metadata": {},
   "source": [
    "Numpy allows to write vectors as arrays"
   ]
  },
  {
   "cell_type": "code",
   "execution_count": 2,
   "metadata": {},
   "outputs": [
    {
     "data": {
      "text/plain": [
       "array([12, 25, 32, 55])"
      ]
     },
     "execution_count": 2,
     "metadata": {},
     "output_type": "execute_result"
    }
   ],
   "source": [
    "array_ = np.array([12, 25, 32, 55])\n",
    "array_"
   ]
  },
  {
   "cell_type": "markdown",
   "metadata": {},
   "source": [
    "numpy arrays can also be built from range"
   ]
  },
  {
   "cell_type": "code",
   "execution_count": 3,
   "metadata": {},
   "outputs": [
    {
     "data": {
      "text/plain": [
       "array([0, 1, 2, 3, 4, 5, 6, 7, 8, 9])"
      ]
     },
     "execution_count": 3,
     "metadata": {},
     "output_type": "execute_result"
    }
   ],
   "source": [
    "builtin_range = np.array(range(10))\n",
    "builtin_range"
   ]
  },
  {
   "cell_type": "markdown",
   "metadata": {},
   "source": [
    "numpy has a specific method for this : arange. This method allows to bound the range and to specify a non integer increment step"
   ]
  },
  {
   "cell_type": "code",
   "execution_count": 4,
   "metadata": {},
   "outputs": [
    {
     "data": {
      "text/plain": [
       "array([0, 1, 2, 3, 4, 5, 6, 7, 8, 9])"
      ]
     },
     "execution_count": 4,
     "metadata": {},
     "output_type": "execute_result"
    }
   ],
   "source": [
    "builtin_range = np.arange(10)\n",
    "builtin_range"
   ]
  },
  {
   "cell_type": "code",
   "execution_count": 5,
   "metadata": {},
   "outputs": [
    {
     "data": {
      "text/plain": [
       "array([2, 3, 4, 5, 6, 7])"
      ]
     },
     "execution_count": 5,
     "metadata": {},
     "output_type": "execute_result"
    }
   ],
   "source": [
    "np.arange(2,8)"
   ]
  },
  {
   "cell_type": "code",
   "execution_count": 6,
   "metadata": {},
   "outputs": [
    {
     "data": {
      "text/plain": [
       "array([2, 4, 6])"
      ]
     },
     "execution_count": 6,
     "metadata": {},
     "output_type": "execute_result"
    }
   ],
   "source": [
    "np.arange(2,8,2)"
   ]
  },
  {
   "cell_type": "markdown",
   "metadata": {},
   "source": [
    "Slicing arrays"
   ]
  },
  {
   "cell_type": "code",
   "execution_count": 7,
   "metadata": {},
   "outputs": [
    {
     "data": {
      "text/plain": [
       "12"
      ]
     },
     "execution_count": 7,
     "metadata": {},
     "output_type": "execute_result"
    }
   ],
   "source": [
    "array_[0]"
   ]
  },
  {
   "cell_type": "code",
   "execution_count": 8,
   "metadata": {},
   "outputs": [
    {
     "data": {
      "text/plain": [
       "0"
      ]
     },
     "execution_count": 8,
     "metadata": {},
     "output_type": "execute_result"
    }
   ],
   "source": [
    "builtin_range[0]"
   ]
  },
  {
   "cell_type": "markdown",
   "metadata": {},
   "source": [
    "To create an interval when knowing its bounds, its easier to use linspace, which precises a number of points instead of a step.\n",
    "Here we specify 50 points regularly covering the space between 0 and 10, providing a sample of 50 values.\n",
    "\n",
    "https://numpy.org/doc/stable/reference/generated/numpy.linspace.html"
   ]
  },
  {
   "cell_type": "code",
   "execution_count": 9,
   "metadata": {},
   "outputs": [
    {
     "data": {
      "text/plain": [
       "array([ 0.        ,  0.20408163,  0.40816327,  0.6122449 ,  0.81632653,\n",
       "        1.02040816,  1.2244898 ,  1.42857143,  1.63265306,  1.83673469,\n",
       "        2.04081633,  2.24489796,  2.44897959,  2.65306122,  2.85714286,\n",
       "        3.06122449,  3.26530612,  3.46938776,  3.67346939,  3.87755102,\n",
       "        4.08163265,  4.28571429,  4.48979592,  4.69387755,  4.89795918,\n",
       "        5.10204082,  5.30612245,  5.51020408,  5.71428571,  5.91836735,\n",
       "        6.12244898,  6.32653061,  6.53061224,  6.73469388,  6.93877551,\n",
       "        7.14285714,  7.34693878,  7.55102041,  7.75510204,  7.95918367,\n",
       "        8.16326531,  8.36734694,  8.57142857,  8.7755102 ,  8.97959184,\n",
       "        9.18367347,  9.3877551 ,  9.59183673,  9.79591837, 10.        ])"
      ]
     },
     "execution_count": 9,
     "metadata": {},
     "output_type": "execute_result"
    }
   ],
   "source": [
    "X = np.linspace(0., 10., 50)\n",
    "X"
   ]
  },
  {
   "cell_type": "markdown",
   "metadata": {},
   "source": [
    "This would be usefull to graph a function between two bounds. Lets create an array Y containing cosines of X"
   ]
  },
  {
   "cell_type": "code",
   "execution_count": 10,
   "metadata": {},
   "outputs": [
    {
     "data": {
      "text/plain": [
       "[<matplotlib.lines.Line2D at 0x218dff74bb0>]"
      ]
     },
     "execution_count": 10,
     "metadata": {},
     "output_type": "execute_result"
    },
    {
     "data": {
      "image/png": "[encoded data removed]",
      "text/plain": [
       "<Figure size 640x480 with 1 Axes>"
      ]
     },
     "metadata": {},
     "output_type": "display_data"
    }
   ],
   "source": [
    "import matplotlib.pyplot as plt\n",
    "#%matplotlib inline\n",
    "plt.ion()\n",
    "Y = np.cos(X)\n",
    "plt.plot(X, Y)"
   ]
  },
  {
   "cell_type": "markdown",
   "metadata": {},
   "source": [
    "So numpy makes it very easy to perform elementwise operations on vectors and matrix (nparrays).  \n",
    "Then if we want to graph the function\n",
    "$x \\longrightarrow cos^2(x)$ and store its results in a array Z:"
   ]
  },
  {
   "cell_type": "code",
   "execution_count": 11,
   "metadata": {},
   "outputs": [
    {
     "name": "stdout",
     "output_type": "stream",
     "text": [
      "[1.00000000e+00 9.58925707e-01 8.42451220e-01 6.69712966e-01\n",
      " 4.69091352e-01 2.73547942e-01 1.15209964e-01 2.00918994e-02\n",
      " 3.82137801e-03 6.90716000e-02 2.05122139e-01 3.89620275e-01\n",
      " 5.92253489e-01 7.79729715e-01 9.21247140e-01 9.93554853e-01\n",
      " 9.84772900e-01 8.96344131e-01 7.42797144e-01 5.49359272e-01\n",
      " 3.47811812e-01 1.71268441e-01 4.87347344e-02 3.42633877e-04\n",
      " 3.40428246e-02 1.44298461e-01 3.12994853e-01 5.12415662e-01\n",
      " 7.09796612e-01 8.72708573e-01 9.74385570e-01 9.98122361e-01\n",
      " 9.40019057e-01 8.09621868e-01 6.28354681e-01 4.25999184e-01\n",
      " 2.35801812e-01 8.90114539e-02 9.74535108e-03 1.10266997e-02\n",
      " 9.26449778e-02 2.41190533e-01 4.32257752e-01 6.34454830e-01\n",
      " 8.14561360e-01 9.42986349e-01 9.98629934e-01 9.72350032e-01\n",
      " 8.68464357e-01 7.04041031e-01]\n"
     ]
    },
    {
     "data": {
      "text/plain": [
       "Text(0.5, 1.0, 'cosine square wave')"
      ]
     },
     "execution_count": 11,
     "metadata": {},
     "output_type": "execute_result"
    },
    {
     "data": {
      "image/png": "[encoded data removed]",
      "text/plain": [
       "<Figure size 640x480 with 1 Axes>"
      ]
     },
     "metadata": {},
     "output_type": "display_data"
    }
   ],
   "source": [
    "Z = np.cos(X)**2 \n",
    "print(Z)\n",
    "plt.plot(X, Z)\n",
    "plt.ylabel('cos(x)')\n",
    "plt.xlabel('x')\n",
    "plt.title('cosine square wave')"
   ]
  },
  {
   "cell_type": "markdown",
   "metadata": {},
   "source": [
    "Acces types in a numpy array: the array will take the default type that allows computation"
   ]
  },
  {
   "cell_type": "code",
   "execution_count": 12,
   "metadata": {},
   "outputs": [
    {
     "name": "stdout",
     "output_type": "stream",
     "text": [
      "float64\n",
      "complex128\n"
     ]
    }
   ],
   "source": [
    "# dtype method\n",
    "# with at least one float\n",
    "a = np.array([1, 2, 4, 8.])\n",
    "print(a.dtype)\n",
    "# with a complex\n",
    "c = np.array([1, 2, 4, 8j])\n",
    "print(c.dtype)"
   ]
  },
  {
   "cell_type": "markdown",
   "metadata": {},
   "source": [
    "Numpy arrays types can be forced, still with loss of precision"
   ]
  },
  {
   "cell_type": "code",
   "execution_count": 13,
   "metadata": {},
   "outputs": [
    {
     "data": {
      "text/plain": [
       "dtype('complex64')"
      ]
     },
     "execution_count": 13,
     "metadata": {},
     "output_type": "execute_result"
    }
   ],
   "source": [
    "c2 = np.array([1, 2, 4, 8], dtype=np.complex64)\n",
    "c2.dtype"
   ]
  },
  {
   "cell_type": "markdown",
   "metadata": {},
   "source": [
    "**Available types **  \n",
    "\n",
    "Complete list https://docs.scipy.org/doc/numpy/user/basics.types.html.  \n",
    "\n",
    "**Types Essentials **  \n",
    "\n",
    "- bool, int, uint (unsigned integer), float and complex ;\n",
    "- these types have diverse sizes so the RAM usage can be optimised\n",
    "- these types exist has per se (outside arrays)"
   ]
  },
  {
   "cell_type": "code",
   "execution_count": 14,
   "metadata": {},
   "outputs": [],
   "source": [
    "# You can store an integer on one byte\n",
    "np_1 = np.int8(1)\n",
    "# Equivalent in native python\n",
    "py_1 = 1"
   ]
  },
  {
   "cell_type": "code",
   "execution_count": 15,
   "metadata": {},
   "outputs": [
    {
     "data": {
      "text/plain": [
       "1"
      ]
     },
     "execution_count": 15,
     "metadata": {},
     "output_type": "execute_result"
    }
   ],
   "source": [
    "np_1"
   ]
  },
  {
   "cell_type": "code",
   "execution_count": 16,
   "metadata": {},
   "outputs": [
    {
     "data": {
      "text/plain": [
       "1"
      ]
     },
     "execution_count": 16,
     "metadata": {},
     "output_type": "execute_result"
    }
   ],
   "source": [
    "py_1"
   ]
  },
  {
   "cell_type": "code",
   "execution_count": 17,
   "metadata": {},
   "outputs": [
    {
     "data": {
      "text/plain": [
       "True"
      ]
     },
     "execution_count": 17,
     "metadata": {},
     "output_type": "execute_result"
    }
   ],
   "source": [
    "# they are equal\n",
    "np_1 == py_1"
   ]
  },
  {
   "cell_type": "code",
   "execution_count": 18,
   "metadata": {},
   "outputs": [
    {
     "data": {
      "text/plain": [
       "False"
      ]
     },
     "execution_count": 18,
     "metadata": {},
     "output_type": "execute_result"
    }
   ],
   "source": [
    "# but have different types\n",
    "np_1 is py_1"
   ]
  },
  {
   "cell_type": "markdown",
   "metadata": {},
   "source": [
    "So with numpy sparing RAM is easier. Imagine you want to store an image of size one million of pixels in black and white over 256 levels of grey. Let's introduce np.zeros too."
   ]
  },
  {
   "cell_type": "code",
   "execution_count": 19,
   "metadata": {},
   "outputs": [
    {
     "data": {
      "text/plain": [
       "array([0., 0., 0., 0., 0., 0., 0., 0., 0., 0.])"
      ]
     },
     "execution_count": 19,
     "metadata": {},
     "output_type": "execute_result"
    }
   ],
   "source": [
    "np.zeros(10)"
   ]
  },
  {
   "cell_type": "code",
   "execution_count": 20,
   "metadata": {},
   "outputs": [
    {
     "data": {
      "text/plain": [
       "8448728"
      ]
     },
     "execution_count": 20,
     "metadata": {},
     "output_type": "execute_result"
    }
   ],
   "source": [
    "# in native Python\n",
    "from sys import getsizeof\n",
    "pure_py = [0 for i in range(10**6)]\n",
    "getsizeof(pure_py)\n"
   ]
  },
  {
   "cell_type": "code",
   "execution_count": 21,
   "metadata": {},
   "outputs": [
    {
     "data": {
      "text/plain": [
       "1000112"
      ]
     },
     "execution_count": 21,
     "metadata": {},
     "output_type": "execute_result"
    }
   ],
   "source": [
    "# with numpy\n",
    "num_py = np.zeros(10**6, dtype=np.int8)\n",
    "getsizeof(num_py)"
   ]
  },
  {
   "cell_type": "code",
   "execution_count": 22,
   "metadata": {},
   "outputs": [
    {
     "data": {
      "text/plain": [
       "16"
      ]
     },
     "execution_count": 22,
     "metadata": {},
     "output_type": "execute_result"
    }
   ],
   "source": [
    "#try these different numpy arrays attributes\n",
    "a.dtype\n",
    "a.itemsize\n",
    "c.dtype\n",
    "c.itemsize"
   ]
  },
  {
   "cell_type": "markdown",
   "metadata": {},
   "source": [
    "summary of numpy attributes"
   ]
  },
  {
   "cell_type": "markdown",
   "metadata": {},
   "source": [
    "| *attribute* | *signification*               | *exemple*    |\n",
    "|:------------|:------------------------------|:-------------|\n",
    "| `shape`     | tuple of dimensions          | `(3, 5, 7)`  |\n",
    "| `ndim`      | number of dimensions             | `3`          |\n",
    "| `size`      | number of elements             | `3 * 5 * 7`  |\n",
    "| `dtype`     | type of each element        | `np.float64` |\n",
    "| `itemsize`  | size (in byte) of an element | `8`          |\n",
    "| `len`       | size of the first dimension | `3`  |"
   ]
  },
  {
   "cell_type": "markdown",
   "metadata": {},
   "source": [
    "Numpy has a specific method for simulating randomness"
   ]
  },
  {
   "cell_type": "code",
   "execution_count": 23,
   "metadata": {},
   "outputs": [
    {
     "name": "stdout",
     "output_type": "stream",
     "text": [
      "[0.54012945 0.53608931]\n",
      "[[0.8651514  0.06573359 0.5947789 ]\n",
      " [0.84583082 0.10646324 0.18851222]]\n",
      "[[[0.80206354 0.37117719 0.41009627]\n",
      "  [0.02270139 0.28883595 0.99375207]\n",
      "  [0.23836331 0.88992751 0.08909985]]\n",
      "\n",
      " [[0.21807888 0.82770901 0.63898228]\n",
      "  [0.77538279 0.83932445 0.19307049]\n",
      "  [0.19324329 0.76277393 0.21837641]]]\n"
     ]
    }
   ],
   "source": [
    "print(np.random.rand(2)) # an array of dimension 1 and vectors of 2 (size 2)\n",
    "print(np.random.rand(2,3)) # an array of dimension 2 and vectors of 3 (size 6)\n",
    "print(np.random.rand(2,3,3)) # an arary of length 2, dimension 3 and vectors of 3 (size 18)"
   ]
  },
  {
   "cell_type": "markdown",
   "metadata": {},
   "source": [
    "A very usefull attribute of numpy arrays is shape. It gives a dimension (rows, columns).\n",
    "Let's create a numpy array of dimension 2 from a list"
   ]
  },
  {
   "cell_type": "code",
   "execution_count": 24,
   "metadata": {},
   "outputs": [
    {
     "name": "stdout",
     "output_type": "stream",
     "text": [
      "[[11 12 13]\n",
      " [21 22 23]]\n",
      "(2, 3)\n"
     ]
    }
   ],
   "source": [
    "d2 = np.array([[11, 12, 13], [21, 22, 23]])\n",
    "print(d2)\n",
    "print(d2.shape)"
   ]
  },
  {
   "cell_type": "code",
   "execution_count": 25,
   "metadata": {},
   "outputs": [
    {
     "data": {
      "text/plain": [
       "12"
      ]
     },
     "execution_count": 25,
     "metadata": {},
     "output_type": "execute_result"
    }
   ],
   "source": [
    "# Slicing\n",
    "d2[0,1]"
   ]
  },
  {
   "cell_type": "markdown",
   "metadata": {},
   "source": [
    "An array is in fact a view of a block of data. So ts dimensions are easier to reshape, which is basicallly just creating another view to the same block."
   ]
  },
  {
   "cell_type": "code",
   "execution_count": 26,
   "metadata": {},
   "outputs": [
    {
     "data": {
      "text/plain": [
       "array([[11, 12],\n",
       "       [13, 21],\n",
       "       [22, 23]])"
      ]
     },
     "execution_count": 26,
     "metadata": {},
     "output_type": "execute_result"
    }
   ],
   "source": [
    "v2 = d2.reshape((3, 2))\n",
    "v2"
   ]
  },
  {
   "cell_type": "markdown",
   "metadata": {},
   "source": [
    "Be carefull of sides effects.\n",
    "d2 and v2 are 2 views of the same block, so changing data in one has consequences on the other"
   ]
  },
  {
   "cell_type": "code",
   "execution_count": 27,
   "metadata": {},
   "outputs": [
    {
     "name": "stdout",
     "output_type": "stream",
     "text": [
      "[[100  12  13]\n",
      " [ 21  22  23]]\n",
      "[[100  12]\n",
      " [ 13  21]\n",
      " [ 22  23]]\n"
     ]
    }
   ],
   "source": [
    "d2[0][0] = 100\n",
    "\n",
    "print(d2)\n",
    "print(v2)"
   ]
  },
  {
   "cell_type": "markdown",
   "metadata": {},
   "source": [
    "Usefull attributes on form"
   ]
  },
  {
   "cell_type": "code",
   "execution_count": 28,
   "metadata": {},
   "outputs": [
    {
     "name": "stdout",
     "output_type": "stream",
     "text": [
      "2\n",
      "6\n"
     ]
    }
   ],
   "source": [
    "# number of dimensions\n",
    "print(d2.ndim)\n",
    "\n",
    "# number of cells\n",
    "print(d2.size)"
   ]
  },
  {
   "cell_type": "code",
   "execution_count": 29,
   "metadata": {},
   "outputs": [
    {
     "name": "stdout",
     "output_type": "stream",
     "text": [
      "shape (2, 3) dimensions 2\n"
     ]
    },
    {
     "data": {
      "text/plain": [
       "True"
      ]
     },
     "execution_count": 29,
     "metadata": {},
     "output_type": "execute_result"
    }
   ],
   "source": [
    "# size is the product of dimensions\n",
    "print('shape', d2.shape, 'dimensions', d2.ndim)\n",
    "len(d2.shape) == d2.ndim"
   ]
  },
  {
   "cell_type": "markdown",
   "metadata": {},
   "source": [
    "We can then expand numpy arrays to higher dimensions"
   ]
  },
  {
   "cell_type": "code",
   "execution_count": 30,
   "metadata": {},
   "outputs": [
    {
     "name": "stdout",
     "output_type": "stream",
     "text": [
      "[[[100]\n",
      "  [ 12]\n",
      "  [ 13]]\n",
      "\n",
      " [[ 21]\n",
      "  [ 22]\n",
      "  [ 23]]]\n",
      "\n",
      "new shape (2, 3, 1)\n",
      "new dimension 3\n"
     ]
    }
   ],
   "source": [
    "d3 = d2.reshape(2,3,1)\n",
    "print(d3)\n",
    "print()\n",
    "print('new shape', d3.shape)\n",
    "print('new dimension', d3.ndim)"
   ]
  },
  {
   "cell_type": "code",
   "execution_count": 31,
   "metadata": {},
   "outputs": [
    {
     "data": {
      "text/plain": [
       "100"
      ]
     },
     "execution_count": 31,
     "metadata": {},
     "output_type": "execute_result"
    }
   ],
   "source": [
    "# Slicing\n",
    "d3[0,0]\n",
    "d3[0,0,0]"
   ]
  },
  {
   "cell_type": "code",
   "execution_count": 32,
   "metadata": {},
   "outputs": [
    {
     "name": "stdout",
     "output_type": "stream",
     "text": [
      "data: [ 0  1  2  3  4  5  6  7  8  9 10 11 12 13 14 15 16 17 18 19 20 21 22 23]\n",
      "rehaped data: [[[ 0  1  2  3]\n",
      "  [ 4  5  6  7]\n",
      "  [ 8  9 10 11]]\n",
      "\n",
      " [[12 13 14 15]\n",
      "  [16 17 18 19]\n",
      "  [20 21 22 23]]]\n"
     ]
    }
   ],
   "source": [
    "size = (24)\n",
    "shape = (2,3,4)\n",
    "data = np.arange(size)\n",
    "print('data:', data)\n",
    "\n",
    "# visualise the array d4\n",
    "# from building blocks of base\n",
    "# 4 rows and et 5 columns\n",
    "\n",
    "d4 = data.reshape(shape)\n",
    "print('rehaped data:', d4)"
   ]
  },
  {
   "cell_type": "markdown",
   "metadata": {},
   "source": [
    "We can always add some 1 in the shape, it won't change the product of dimensions: the size will not change, though the dimensions and shape will)"
   ]
  },
  {
   "cell_type": "code",
   "execution_count": 33,
   "metadata": {},
   "outputs": [
    {
     "name": "stdout",
     "output_type": "stream",
     "text": [
      "d2:\n",
      "[[100  12  13]\n",
      " [ 21  22  23]]\n",
      "d2 shape: (2, 3)\n",
      "d2 size: 6\n",
      "d2 dim 2\n",
      "\n",
      "[[[100  12  13]]\n",
      "\n",
      " [[ 21  22  23]]]\n",
      "shape (2, 1, 3)\n",
      "dim 3\n",
      "size 6\n",
      "\n",
      "[[[100]\n",
      "  [ 12]\n",
      "  [ 13]]\n",
      "\n",
      " [[ 21]\n",
      "  [ 22]\n",
      "  [ 23]]]\n",
      "shape (2, 3, 1)\n",
      "dim 3\n",
      "size 6\n",
      "\n",
      "[[[100  12  13]\n",
      "  [ 21  22  23]]]\n",
      "\n",
      "[[[[[[100  12  13]\n",
      "     [ 21  22  23]]]]]]\n"
     ]
    }
   ],
   "source": [
    "#try\n",
    "print('d2:')\n",
    "print(d2)\n",
    "print('d2 shape:', d2.shape)\n",
    "print('d2 size:', d2.size)\n",
    "print('d2 dim', d2.ndim)\n",
    "print()\n",
    "print(d2.reshape(2, 1, 3))\n",
    "print('shape', d2.reshape(2, 1, 3).shape)\n",
    "print('dim', d2.reshape(2, 1, 3).ndim)\n",
    "print('size', d2.reshape(2, 1, 3).size)\n",
    "\n",
    "print()\n",
    "print(d2.reshape(2, 3, 1))\n",
    "print('shape', d2.reshape(2, 3, 1).shape)\n",
    "print('dim', d2.reshape(2, 3, 1).ndim)\n",
    "print('size', d2.reshape(2, 3, 1).size)\n",
    "\n",
    "print()\n",
    "print(d2.reshape((1, 2, 3)))\n",
    "print()\n",
    "print(d2.reshape((1, 1, 1, 1, 2, 3)))"
   ]
  },
  {
   "cell_type": "markdown",
   "metadata": {},
   "source": [
    "To make computation, we sometimes need to flatten multidimensional arrays. Two methods:\n",
    "    - ravel\n",
    "    - flatten"
   ]
  },
  {
   "cell_type": "code",
   "execution_count": 34,
   "metadata": {},
   "outputs": [
    {
     "data": {
      "text/plain": [
       "array([100,  12,  13,  21,  22,  23])"
      ]
     },
     "execution_count": 34,
     "metadata": {},
     "output_type": "execute_result"
    }
   ],
   "source": [
    "d2.ravel()"
   ]
  },
  {
   "cell_type": "code",
   "execution_count": 35,
   "metadata": {},
   "outputs": [
    {
     "data": {
      "text/plain": [
       "array([100,  12,  13,  21,  22,  23])"
      ]
     },
     "execution_count": 35,
     "metadata": {},
     "output_type": "execute_result"
    }
   ],
   "source": [
    "d2.flatten()"
   ]
  },
  {
   "cell_type": "markdown",
   "metadata": {},
   "source": [
    "# Exercises\n",
    "Before getting to this section, check Broadcasting in python notebook"
   ]
  },
  {
   "cell_type": "markdown",
   "metadata": {},
   "source": [
    "Exercice : debug"
   ]
  },
  {
   "cell_type": "code",
   "execution_count": 36,
   "metadata": {},
   "outputs": [
    {
     "data": {
      "text/plain": [
       "array([[100,  12,  13],\n",
       "       [ 21,  22,  23]])"
      ]
     },
     "execution_count": 36,
     "metadata": {},
     "output_type": "execute_result"
    }
   ],
   "source": [
    "d2"
   ]
  },
  {
   "cell_type": "code",
   "execution_count": 37,
   "metadata": {},
   "outputs": [
    {
     "ename": "ValueError",
     "evalue": "cannot reshape array of size 6 into shape (3,4)",
     "output_type": "error",
     "traceback": [
      "\u001b[1;31m---------------------------------------------------------------------------\u001b[0m",
      "\u001b[1;31mValueError\u001b[0m                                Traceback (most recent call last)",
      "Input \u001b[1;32mIn [37]\u001b[0m, in \u001b[0;36m<cell line: 2>\u001b[1;34m()\u001b[0m\n\u001b[0;32m      1\u001b[0m \u001b[38;5;66;03m# Debug\u001b[39;00m\n\u001b[1;32m----> 2\u001b[0m \u001b[43md2\u001b[49m\u001b[38;5;241;43m.\u001b[39;49m\u001b[43mreshape\u001b[49m\u001b[43m(\u001b[49m\u001b[43m(\u001b[49m\u001b[38;5;241;43m3\u001b[39;49m\u001b[43m,\u001b[49m\u001b[43m \u001b[49m\u001b[38;5;241;43m4\u001b[39;49m\u001b[43m)\u001b[49m\u001b[43m)\u001b[49m\n",
      "\u001b[1;31mValueError\u001b[0m: cannot reshape array of size 6 into shape (3,4)"
     ]
    }
   ],
   "source": [
    "# Debug\n",
    "d2.reshape((3, 4))"
   ]
  },
  {
   "cell_type": "markdown",
   "metadata": {},
   "source": [
    "Simulate from numpy arrays a and b such that  \n",
    "a.shape = (2, 3)  \n",
    "b.shape = (2, 1)  \n",
    "compute c = a + b  "
   ]
  },
  {
   "cell_type": "code",
   "execution_count": null,
   "metadata": {},
   "outputs": [],
   "source": []
  },
  {
   "cell_type": "markdown",
   "metadata": {},
   "source": [
    "check your result by adding manually first row of a and first row of b"
   ]
  },
  {
   "cell_type": "code",
   "execution_count": null,
   "metadata": {},
   "outputs": [],
   "source": []
  },
  {
   "cell_type": "markdown",
   "metadata": {},
   "source": [
    "Check the shape of b np.array"
   ]
  },
  {
   "cell_type": "code",
   "execution_count": null,
   "metadata": {},
   "outputs": [],
   "source": []
  },
  {
   "cell_type": "markdown",
   "metadata": {},
   "source": [
    "Change the shape of b with reshape in order to get the transpose of the vector defined by b and store the result in c"
   ]
  },
  {
   "cell_type": "code",
   "execution_count": null,
   "metadata": {},
   "outputs": [],
   "source": []
  },
  {
   "cell_type": "markdown",
   "metadata": {},
   "source": [
    "compute the sum f of a and transpose of c (transpose of c in python is c.T)), compare with the sum of a and b"
   ]
  },
  {
   "cell_type": "code",
   "execution_count": null,
   "metadata": {},
   "outputs": [],
   "source": []
  },
  {
   "cell_type": "markdown",
   "metadata": {},
   "source": [
    "Create a column vector d with 5 non zero elements"
   ]
  },
  {
   "cell_type": "code",
   "execution_count": null,
   "metadata": {},
   "outputs": [],
   "source": []
  },
  {
   "cell_type": "markdown",
   "metadata": {},
   "source": [
    "Create a row vector e with 5 elements"
   ]
  },
  {
   "cell_type": "code",
   "execution_count": null,
   "metadata": {},
   "outputs": [],
   "source": []
  },
  {
   "cell_type": "markdown",
   "metadata": {},
   "source": [
    "Create two matrix A and B of size (12288,150) for A and (150,45) for A and take their dot product C."
   ]
  },
  {
   "cell_type": "code",
   "execution_count": null,
   "metadata": {},
   "outputs": [],
   "source": []
  },
  {
   "cell_type": "markdown",
   "metadata": {},
   "source": [
    "Explain shape of C"
   ]
  },
  {
   "cell_type": "code",
   "execution_count": null,
   "metadata": {},
   "outputs": [],
   "source": []
  },
  {
   "cell_type": "markdown",
   "metadata": {},
   "source": [
    "Try to compute the elementwise product G of A and B (compute G as a Hadamard product). Why can't we ? What is the difference produced by the np.dot method ?"
   ]
  },
  {
   "cell_type": "markdown",
   "metadata": {},
   "source": [
    "Simulate matrix M and N so that\n",
    "M.shape = (3, 5)\n",
    "N.shape = (3, 1)\n",
    "compute O = M * N"
   ]
  },
  {
   "cell_type": "code",
   "execution_count": null,
   "metadata": {},
   "outputs": [],
   "source": []
  },
  {
   "cell_type": "markdown",
   "metadata": {
    "collapsed": true
   },
   "source": [
    "Explain why we could compute MxN and explain the shape of O"
   ]
  },
  {
   "cell_type": "code",
   "execution_count": null,
   "metadata": {},
   "outputs": [],
   "source": []
  }
 ],
 "metadata": {
  "kernelspec": {
   "display_name": "Python 3 (ipykernel)",
   "language": "python",
   "name": "python3"
  },
  "language_info": {
   "codemirror_mode": {
    "name": "ipython",
    "version": 3
   },
   "file_extension": ".py",
   "mimetype": "text/x-python",
   "name": "python",
   "nbconvert_exporter": "python",
   "pygments_lexer": "ipython3",
   "version": "3.9.13"
  }
 },
 "nbformat": 4,
 "nbformat_minor": 2
}
